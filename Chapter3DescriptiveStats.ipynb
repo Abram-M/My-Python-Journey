{
 "cells": [
  {
   "cell_type": "code",
   "execution_count": 36,
   "metadata": {},
   "outputs": [],
   "source": [
    "import pandas as pd\n",
    "import numpy as np\n",
    "import matplotlib. pyplot as plt\n"
   ]
  },
  {
   "cell_type": "code",
   "execution_count": 6,
   "metadata": {},
   "outputs": [],
   "source": [
    "file = open('adult.data', 'r')"
   ]
  },
  {
   "cell_type": "code",
   "execution_count": 9,
   "metadata": {},
   "outputs": [],
   "source": [
    "def chr_int(a):\n",
    "    if a.isdigit(): \n",
    "     return int(a)\n",
    "    else : \n",
    "     return 0\n",
    "\n",
    "data = []\n",
    "for line in file :\n",
    "     data1 = line.split(',')\n",
    "     if len(data1) == 15:\n",
    "         data.append([chr_int(data1 [0]), data1[1],\n",
    "                 chr_int(data1 [2]), data1[3],\n",
    "                 chr_int(data1 [4]), data1[5],\n",
    "                 data1[6], data1[7], data1[8],\n",
    "                 data1[9], chr_int (data1[10]),\n",
    "                 chr_int(data1[11]),\n",
    "                 chr_int(data1[12]),\n",
    "                 data1 [13], data1[14]\n",
    "                ])"
   ]
  },
  {
   "cell_type": "code",
   "execution_count": 54,
   "metadata": {},
   "outputs": [
    {
     "data": {
      "text/html": [
       "<div>\n",
       "<style scoped>\n",
       "    .dataframe tbody tr th:only-of-type {\n",
       "        vertical-align: middle;\n",
       "    }\n",
       "\n",
       "    .dataframe tbody tr th {\n",
       "        vertical-align: top;\n",
       "    }\n",
       "\n",
       "    .dataframe thead th {\n",
       "        text-align: right;\n",
       "    }\n",
       "</style>\n",
       "<table border=\"1\" class=\"dataframe\">\n",
       "  <thead>\n",
       "    <tr style=\"text-align: right;\">\n",
       "      <th></th>\n",
       "      <th>age</th>\n",
       "      <th>type_employer</th>\n",
       "      <th>fnlwgt</th>\n",
       "      <th>education</th>\n",
       "      <th>education_num</th>\n",
       "      <th>marital</th>\n",
       "      <th>occupation</th>\n",
       "      <th>relationship</th>\n",
       "      <th>race</th>\n",
       "      <th>sex</th>\n",
       "      <th>capital_gain</th>\n",
       "      <th>capital_loss</th>\n",
       "      <th>hr_per_week</th>\n",
       "      <th>country</th>\n",
       "      <th>income</th>\n",
       "    </tr>\n",
       "  </thead>\n",
       "  <tbody>\n",
       "    <tr>\n",
       "      <th>0</th>\n",
       "      <td>39</td>\n",
       "      <td>State-gov</td>\n",
       "      <td>0</td>\n",
       "      <td>Bachelors</td>\n",
       "      <td>0</td>\n",
       "      <td>Never-married</td>\n",
       "      <td>Adm-clerical</td>\n",
       "      <td>Not-in-family</td>\n",
       "      <td>White</td>\n",
       "      <td>Male</td>\n",
       "      <td>0</td>\n",
       "      <td>0</td>\n",
       "      <td>0</td>\n",
       "      <td>United-States</td>\n",
       "      <td>&lt;=50K\\n</td>\n",
       "    </tr>\n",
       "    <tr>\n",
       "      <th>1</th>\n",
       "      <td>50</td>\n",
       "      <td>Self-emp-not-inc</td>\n",
       "      <td>0</td>\n",
       "      <td>Bachelors</td>\n",
       "      <td>0</td>\n",
       "      <td>Married-civ-spouse</td>\n",
       "      <td>Exec-managerial</td>\n",
       "      <td>Husband</td>\n",
       "      <td>White</td>\n",
       "      <td>Male</td>\n",
       "      <td>0</td>\n",
       "      <td>0</td>\n",
       "      <td>0</td>\n",
       "      <td>United-States</td>\n",
       "      <td>&lt;=50K\\n</td>\n",
       "    </tr>\n",
       "    <tr>\n",
       "      <th>2</th>\n",
       "      <td>38</td>\n",
       "      <td>Private</td>\n",
       "      <td>0</td>\n",
       "      <td>HS-grad</td>\n",
       "      <td>0</td>\n",
       "      <td>Divorced</td>\n",
       "      <td>Handlers-cleaners</td>\n",
       "      <td>Not-in-family</td>\n",
       "      <td>White</td>\n",
       "      <td>Male</td>\n",
       "      <td>0</td>\n",
       "      <td>0</td>\n",
       "      <td>0</td>\n",
       "      <td>United-States</td>\n",
       "      <td>&lt;=50K\\n</td>\n",
       "    </tr>\n",
       "    <tr>\n",
       "      <th>3</th>\n",
       "      <td>53</td>\n",
       "      <td>Private</td>\n",
       "      <td>0</td>\n",
       "      <td>11th</td>\n",
       "      <td>0</td>\n",
       "      <td>Married-civ-spouse</td>\n",
       "      <td>Handlers-cleaners</td>\n",
       "      <td>Husband</td>\n",
       "      <td>Black</td>\n",
       "      <td>Male</td>\n",
       "      <td>0</td>\n",
       "      <td>0</td>\n",
       "      <td>0</td>\n",
       "      <td>United-States</td>\n",
       "      <td>&lt;=50K\\n</td>\n",
       "    </tr>\n",
       "    <tr>\n",
       "      <th>4</th>\n",
       "      <td>28</td>\n",
       "      <td>Private</td>\n",
       "      <td>0</td>\n",
       "      <td>Bachelors</td>\n",
       "      <td>0</td>\n",
       "      <td>Married-civ-spouse</td>\n",
       "      <td>Prof-specialty</td>\n",
       "      <td>Wife</td>\n",
       "      <td>Black</td>\n",
       "      <td>Female</td>\n",
       "      <td>0</td>\n",
       "      <td>0</td>\n",
       "      <td>0</td>\n",
       "      <td>Cuba</td>\n",
       "      <td>&lt;=50K\\n</td>\n",
       "    </tr>\n",
       "  </tbody>\n",
       "</table>\n",
       "</div>"
      ],
      "text/plain": [
       "   age      type_employer  fnlwgt   education  education_num  \\\n",
       "0   39          State-gov       0   Bachelors              0   \n",
       "1   50   Self-emp-not-inc       0   Bachelors              0   \n",
       "2   38            Private       0     HS-grad              0   \n",
       "3   53            Private       0        11th              0   \n",
       "4   28            Private       0   Bachelors              0   \n",
       "\n",
       "               marital          occupation    relationship    race      sex  \\\n",
       "0        Never-married        Adm-clerical   Not-in-family   White     Male   \n",
       "1   Married-civ-spouse     Exec-managerial         Husband   White     Male   \n",
       "2             Divorced   Handlers-cleaners   Not-in-family   White     Male   \n",
       "3   Married-civ-spouse   Handlers-cleaners         Husband   Black     Male   \n",
       "4   Married-civ-spouse      Prof-specialty            Wife   Black   Female   \n",
       "\n",
       "   capital_gain  capital_loss  hr_per_week         country    income  \n",
       "0             0             0            0   United-States   <=50K\\n  \n",
       "1             0             0            0   United-States   <=50K\\n  \n",
       "2             0             0            0   United-States   <=50K\\n  \n",
       "3             0             0            0   United-States   <=50K\\n  \n",
       "4             0             0            0            Cuba   <=50K\\n  "
      ]
     },
     "execution_count": 54,
     "metadata": {},
     "output_type": "execute_result"
    }
   ],
   "source": [
    "df1 = pd.DataFrame(data)  \n",
    "\n",
    "df1.columns = ['age', 'type_employer', 'fnlwgt', 'education', \n",
    "                \"education_num\",\"marital\", \"occupation\", \"relationship\", \"race\",\"sex\",\n",
    "                \"capital_gain\", \"capital_loss\", \"hr_per_week\",\"country\",\"income\"]\n",
    "df1.head()"
   ]
  },
  {
   "cell_type": "code",
   "execution_count": 64,
   "metadata": {},
   "outputs": [
    {
     "data": {
      "text/plain": [
       "<bound method NDFrame.tail of country\n",
       " ?                               583\n",
       " Cambodia                         19\n",
       " Canada                          121\n",
       " China                            75\n",
       " Columbia                         59\n",
       " Cuba                             95\n",
       " Dominican-Republic               70\n",
       " Ecuador                          28\n",
       " El-Salvador                     106\n",
       " England                          90\n",
       " France                           29\n",
       " Germany                         137\n",
       " Greece                           29\n",
       " Guatemala                        64\n",
       " Haiti                            44\n",
       " Holand-Netherlands                1\n",
       " Honduras                         13\n",
       " Hong                             20\n",
       " Hungary                          13\n",
       " India                           100\n",
       " Iran                             43\n",
       " Ireland                          24\n",
       " Italy                            73\n",
       " Jamaica                          81\n",
       " Japan                            62\n",
       " Laos                             18\n",
       " Mexico                          643\n",
       " Nicaragua                        34\n",
       " Outlying-US(Guam-USVI-etc)       14\n",
       " Peru                             31\n",
       " Philippines                     198\n",
       " Poland                           60\n",
       " Portugal                         37\n",
       " Puerto-Rico                     114\n",
       " Scotland                         12\n",
       " South                            80\n",
       " Taiwan                           51\n",
       " Thailand                         18\n",
       " Trinadad&Tobago                  19\n",
       " United-States                 29170\n",
       " Vietnam                          67\n",
       " Yugoslavia                       16\n",
       "dtype: int64>"
      ]
     },
     "execution_count": 64,
     "metadata": {},
     "output_type": "execute_result"
    }
   ],
   "source": [
    "counts = df1.groupby('country').size()\n",
    "counts.tail"
   ]
  },
  {
   "cell_type": "code",
   "execution_count": 49,
   "metadata": {},
   "outputs": [
    {
     "name": "stdout",
     "output_type": "stream",
     "text": [
      "   age      type_employer  fnlwgt   education  education_num  \\\n",
      "0   39          State-gov       0   Bachelors              0   \n",
      "1   50   Self-emp-not-inc       0   Bachelors              0   \n",
      "2   38            Private       0     HS-grad              0   \n",
      "3   53            Private       0        11th              0   \n",
      "4   28            Private       0   Bachelors              0   \n",
      "\n",
      "               marital          occupation    relationship    race      sex  \\\n",
      "0        Never-married        Adm-clerical   Not-in-family   White     Male   \n",
      "1   Married-civ-spouse     Exec-managerial         Husband   White     Male   \n",
      "2             Divorced   Handlers-cleaners   Not-in-family   White     Male   \n",
      "3   Married-civ-spouse   Handlers-cleaners         Husband   Black     Male   \n",
      "4   Married-civ-spouse      Prof-specialty            Wife   Black   Female   \n",
      "\n",
      "   capital_gain  capital_loss  hr_per_week         country    income  \n",
      "0             0             0            0   United-States   <=50K\\n  \n",
      "1             0             0            0   United-States   <=50K\\n  \n",
      "2             0             0            0   United-States   <=50K\\n  \n",
      "3             0             0            0   United-States   <=50K\\n  \n",
      "4             0             0            0            Cuba   <=50K\\n  \n"
     ]
    }
   ],
   "source": [
    "print (df1.head())"
   ]
  },
  {
   "cell_type": "code",
   "execution_count": 52,
   "metadata": {},
   "outputs": [
    {
     "data": {
      "text/plain": [
       "(0, 15)"
      ]
     },
     "execution_count": 52,
     "metadata": {},
     "output_type": "execute_result"
    }
   ],
   "source": [
    "fm = df1[(df1['sex']== 'Female') ]\n",
    "fm.shape"
   ]
  },
  {
   "cell_type": "code",
   "execution_count": 53,
   "metadata": {},
   "outputs": [],
   "source": [
    "ml1 = df[(df.sex == 'Male') & (df.income== '>50K\\n')]\n",
    "fm = df[(df.sex == 'Female') ]\n",
    "fm1 = df[(df.sex == 'Female') & (df.income== '>50K\\n') ]"
   ]
  },
  {
   "cell_type": "code",
   "execution_count": 33,
   "metadata": {},
   "outputs": [
    {
     "name": "stdout",
     "output_type": "stream",
     "text": [
      "Empty DataFrame\n",
      "Columns: [age, type_employer, fnlwgt, education, education_num, marital, occupation, relationship, race, sex, capital_gain, capital_loss, hr_per_week, country, income]\n",
      "Index: []\n"
     ]
    }
   ],
   "source": [
    "print(ml.head())"
   ]
  },
  {
   "cell_type": "code",
   "execution_count": 68,
   "metadata": {},
   "outputs": [
    {
     "data": {
      "text/plain": [
       "(0, 15)"
      ]
     },
     "execution_count": 68,
     "metadata": {},
     "output_type": "execute_result"
    }
   ],
   "source": [
    "df1=df[(df['income'] == '>50K\\n')]\n",
    "df1.shape"
   ]
  },
  {
   "cell_type": "code",
   "execution_count": null,
   "metadata": {},
   "outputs": [],
   "source": []
  }
 ],
 "metadata": {
  "kernelspec": {
   "display_name": "Python 3",
   "language": "python",
   "name": "python3"
  },
  "language_info": {
   "codemirror_mode": {
    "name": "ipython",
    "version": 3
   },
   "file_extension": ".py",
   "mimetype": "text/x-python",
   "name": "python",
   "nbconvert_exporter": "python",
   "pygments_lexer": "ipython3",
   "version": "3.8.3"
  }
 },
 "nbformat": 4,
 "nbformat_minor": 4
}
